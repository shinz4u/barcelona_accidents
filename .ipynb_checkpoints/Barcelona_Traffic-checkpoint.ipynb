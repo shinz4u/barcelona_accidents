{
 "cells": [
  {
   "cell_type": "markdown",
   "metadata": {},
   "source": [
    "# Barcelona Traffic Accidents Data Analysis"
   ]
  },
  {
   "cell_type": "markdown",
   "metadata": {},
   "source": [
    "This Notebook serves as an exploratory and analytical approach to teh pedestrain dataset from Barcelona Accident.\n",
    "\n",
    "The dataset has been taken from https://www.kaggle.com/marcvelmer/barcelona-accidents\n",
    "\n",
    "Packages required:  \n",
    "** NumPy  \n",
    "Sci-Kit Learn  \n",
    "Seaborn  \n",
    "matplotlib  **\n",
    "\n",
    "\n"
   ]
  },
  {
   "cell_type": "code",
   "execution_count": 1,
   "metadata": {
    "collapsed": true
   },
   "outputs": [],
   "source": [
    "import matplotlib as plt\n",
    "import sklearn as sk\n",
    "import numpy as np\n",
    "import seaborn as sns"
   ]
  },
  {
   "cell_type": "code",
   "execution_count": 4,
   "metadata": {},
   "outputs": [
    {
     "name": "stdout",
     "output_type": "stream",
     "text": [
      "The version of NumPy is 1.12.1\n",
      "The version of Scikit Learn is 0.18.1\n",
      "The version of Seaborn is 0.8.0\n",
      "The version of Matplotlib is 2.0.2\n"
     ]
    }
   ],
   "source": [
    "print (\"The version of NumPy is\", np.__version__)\n",
    "print (\"The version of Scikit Learn is\", sk.__version__)\n",
    "print (\"The version of Seaborn is\", sns.__version__)\n",
    "print (\"The version of Matplotlib is\", plt.__version__)\n"
   ]
  },
  {
   "cell_type": "code",
   "execution_count": null,
   "metadata": {
    "collapsed": true
   },
   "outputs": [],
   "source": []
  }
 ],
 "metadata": {
  "kernelspec": {
   "display_name": "Python 3",
   "language": "python",
   "name": "python3"
  },
  "language_info": {
   "codemirror_mode": {
    "name": "ipython",
    "version": 3
   },
   "file_extension": ".py",
   "mimetype": "text/x-python",
   "name": "python",
   "nbconvert_exporter": "python",
   "pygments_lexer": "ipython3",
   "version": "3.6.1"
  }
 },
 "nbformat": 4,
 "nbformat_minor": 2
}
